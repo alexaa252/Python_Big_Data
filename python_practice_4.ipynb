{
  "cells": [
    {
      "cell_type": "markdown",
      "metadata": {
        "id": "kXpppdVm6wFy"
      },
      "source": [
        "# I. Functions. Arguments."
      ]
    },
    {
      "cell_type": "markdown",
      "metadata": {
        "id": "u_krJdlbAkVz"
      },
      "source": [
        "1. (5б) Назвіть основні 4 смислові  частини, з яких складається функція."
      ]
    },
    {
      "cell_type": "markdown",
      "metadata": {
        "id": "KKTrTXmHAptb"
      },
      "source": [
        "1. Визначення функції def + назва функції\n",
        "2. Параметри (ARGS позиційні, KWARGS необовязкові)\n",
        "3. Тіло функції\n",
        "4. return"
      ]
    },
    {
      "cell_type": "markdown",
      "metadata": {
        "id": "ORM4PqJQAtDM"
      },
      "source": [
        "2. (3б) Визначте функцію, що приймає 2 аргументи та повертає результат ділення 1го аргумента на інший."
      ]
    },
    {
      "cell_type": "code",
      "execution_count": null,
      "metadata": {
        "id": "EuDx-z8M6sLo"
      },
      "outputs": [],
      "source": [
        "def func_division(a,b):\n",
        "    return a/b\n",
        "\n",
        "func_division(2,1)    #Result 2.0"
      ]
    },
    {
      "cell_type": "markdown",
      "metadata": {
        "id": "5joQGQ-SAyMe"
      },
      "source": [
        "3. (2б) Викличте вище визначену функцію, де другий аргумент дорівнює 0."
      ]
    },
    {
      "cell_type": "code",
      "execution_count": null,
      "metadata": {
        "id": "V5cBV1LOA3d-"
      },
      "outputs": [],
      "source": [
        "func_division(2,0)    \n",
        "#Result ZeroDivisionError: division by zero\n"
      ]
    },
    {
      "cell_type": "markdown",
      "metadata": {
        "id": "QyimWgW8A43-"
      },
      "source": [
        "4. (4б) Перевизначте функцію так, щоби у випадку ділення на 0 функція повертала None, а в решті випадків - результат розрахунків."
      ]
    },
    {
      "cell_type": "code",
      "execution_count": null,
      "metadata": {
        "id": "7VIODtSjA8Ek"
      },
      "outputs": [],
      "source": [
        "def func_division(a,b):\n",
        "    if b == 0:\n",
        "        return None\n",
        "    else:\n",
        "        return a/b\n",
        "print(func_division(2,0)) #Result None\n",
        "func_division(2,1) #Result 2.0"
      ]
    },
    {
      "cell_type": "markdown",
      "metadata": {
        "id": "Y8mN0GfkA81l"
      },
      "source": [
        "5. (5б) Визначте функцію, що віднімає одне число від іншого (підказка: це буде 2 аргументи функції). При чому, якщо не визначити, скільки саме має бути віднято від числа, за замовчуванням має відніматися 1. Викличте функцію, передаючи тільки один аргумент."
      ]
    },
    {
      "cell_type": "code",
      "execution_count": null,
      "metadata": {
        "id": "vg1kxkdgBA50"
      },
      "outputs": [],
      "source": [
        "def func_subtraction(a,b=1):\n",
        "        return a-b\n",
        "func_subtraction(23)    \n",
        "#Output\n",
        "#22"
      ]
    },
    {
      "cell_type": "markdown",
      "metadata": {
        "id": "D3mwQGNOBBs4"
      },
      "source": [
        "6. (7б) Визначте функцію, яка приймає iterable (ітерабельний обʼєкт, напр. список), що складається з 7ми рядкових значень - назв погодних умов (напр. \"sunny\") за кожен день у тижні. Повертає функція словник, де ключами є рядки з погодними умовами, а значеннями - кількість разів, скільки дана погода була протягом тижня (напр. {'sunny': 1, ...}). Викличте цю функцію та виведіть результат її роботи на екран."
      ]
    },
    {
      "cell_type": "code",
      "execution_count": null,
      "metadata": {
        "id": "OsWm-hKcBFyn"
      },
      "outputs": [],
      "source": [
        "def count_weather(weekly_weather):\n",
        "    w_count = {}\n",
        "    for weather in weekly_weather:\n",
        "        if weather in w_count:\n",
        "            w_count[weather] += 1\n",
        "        else:\n",
        "            w_count[weather] = 1   \n",
        "    return w_count\n",
        "weekly_weather = [\"sunny\", \"cloudy\", \"rainy\", \"rainy\", \"snowy\", \"cloudy\", \"sunny\"]  \n",
        "w_count = count_weather(weekly_weather)   \n",
        "print(w_count)\n",
        "#Result {'sunny': 2, 'cloudy': 2, 'rainy': 2, 'snowy': 1}"
      ]
    },
    {
      "cell_type": "markdown",
      "metadata": {
        "id": "RMiCcdOsBKQT"
      },
      "source": [
        "7. (15б) Напишіть програму, яка б шукала необхідне число у впорядкованому списку цілочислених значень, де\n",
        "число має вводитись з консолі.\n",
        "власне алгоритм пошуку винесений в окрему функцію, яка повертає булеве значення (знайдено число - True, не знайдено - False).\n",
        "в залежності від результату функції, виведіть на екран повідомлення про успішний або ж неуспішний пошук.\n",
        "Зауваження: використовувати оператор in заборонено."
      ]
    },
    {
      "cell_type": "code",
      "execution_count": null,
      "metadata": {
        "id": "UNCZg65OBOy-"
      },
      "outputs": [],
      "source": [
        "def search(list, target):\n",
        "    start = 0\n",
        "    end = len(list) - 1\n",
        "    while start <= end:\n",
        "        num = (start+end) // 2\n",
        "        if list[num] == target:\n",
        "            return True\n",
        "        elif list[num] < target:\n",
        "            start = num + 1\n",
        "        else:\n",
        "            end = num - 1    \n",
        "    return False   \n",
        "list = [1, 3, 5, 7, 9, 11, 13, 15, 17, 19, 21]\n",
        "target = int(input(\"Введіть число для пошуку: \")) \n",
        "found = search(list, target)\n",
        "if found:\n",
        "    print(f\"Число {target} знайдено у списку!\")\n",
        "else:\n",
        "    print(f\"Число {target} не знайдено у списку.\")\n"
      ]
    },
    {
      "cell_type": "markdown",
      "metadata": {
        "id": "Ae1n_OvLBTsy"
      },
      "source": [
        "# II. Lambda functions."
      ]
    },
    {
      "cell_type": "markdown",
      "metadata": {
        "id": "xaD_wSlaCWen"
      },
      "source": [
        "8. (4б) В яких випадках варто використовувати лямбда-функції?"
      ]
    },
    {
      "cell_type": "markdown",
      "metadata": {
        "id": "42MB6OoLCakR"
      },
      "source": [
        "Анонімна, коротка, однорядкова функція. Призначена функція для одноразового використання"
      ]
    },
    {
      "cell_type": "markdown",
      "metadata": {
        "id": "USrzrk7GCedk"
      },
      "source": [
        "9. (9б) Визначте список з рядками. Після цього визначте анонімну функцію для отримання першого символу у верхньому регістрі для кожного рядка списку.\n",
        "Підказка: використовуйте анонімну функцію в якості агрумента до вбудованої ф-ції, яка створена для застосування функцій над iterable обʼєктами. Результат виведіть на екран у вигляді кортежу."
      ]
    },
    {
      "cell_type": "code",
      "execution_count": null,
      "metadata": {
        "id": "M8QWUsMlCjWH"
      },
      "outputs": [],
      "source": [
        "words = [\"apple\", \"banana\", \"cherry\", \"date\", \"elderberry\", \"fig\", \"grape\"]\n",
        "upper_letters = tuple(map(lambda word:word[0].upper(), words))\n",
        "print(upper_letters)\n"
      ]
    },
    {
      "cell_type": "markdown",
      "metadata": {
        "id": "9fyUhXOoCtGp"
      },
      "source": [
        "10. (10б) Визначте список з числовими значеннями (і цілими, і з рухомою комою). а) Відфільтруйте всі числа, які діляться націло на 3 за допомогою вбудованої функції та анонімної функції в якості аргумента). Збережіть результат у змінній, не приводяти явно до будь-якого типу. б) Використовуючи результат на кроці 12.а у якості аргументу, та за допомогою лямбда-функції в якості іншого аргументу до вбудованої функції, додайте до кожного елементу число 1 та опісля зведіть у квадрат. Остаточний результат приведіть явно до списку та виведіть на екран."
      ]
    },
    {
      "cell_type": "code",
      "execution_count": null,
      "metadata": {
        "id": "exEx2_okCsql"
      },
      "outputs": [],
      "source": [
        "numbers = [1, 2, 3.3, 5.6, 78, 3, 30]\n",
        "divided_numbers = filter(lambda num: num%3==0, numbers)\n",
        "result = list(map(lambda num: (num+1)**2, divided_numbers))\n",
        "print(result)\n",
        "#Output \n",
        "#[6241, 16, 961]\n"
      ]
    },
    {
      "cell_type": "markdown",
      "metadata": {
        "id": "o_x8cG_WC7jp"
      },
      "source": [
        "# III. Decorators."
      ]
    },
    {
      "cell_type": "markdown",
      "metadata": {
        "id": "mhxS4-mfC8LQ"
      },
      "source": [
        "11. (11б) Визначте декоратор, який би виводив у консоль повідомлення про початок роботи і назву функції (напр. my_function._ _ name _ _), а після відпрацювання функції - повідомлення про закінчення роботи і назву функції, що задекорована."
      ]
    },
    {
      "cell_type": "code",
      "execution_count": null,
      "metadata": {
        "id": "srd1ygWjDGhO"
      },
      "outputs": [],
      "source": [
        "def start_end_function(my_function):\n",
        "    def wrapper(*args, **kwargs):\n",
        "        print(f\"Початок виконання функції {my_function.__name__}\")\n",
        "        result = my_function(*args, **kwargs)\n",
        "        print(f\"Завершення виконання функції {my_function.__name__}\")\n",
        "        return result\n",
        "    return wrapper\n",
        "\n",
        "@start_end_function\n",
        "def example_function():\n",
        "    print(\"Функція працює...\")\n",
        "example_function()\n",
        "\n",
        "#Output\n",
        "#Початок виконання функції example_function\n",
        "#Функція працює...\n",
        "#Завершення виконання функції example_function"
      ]
    },
    {
      "cell_type": "markdown",
      "metadata": {
        "id": "rxGZwVBiDph3"
      },
      "source": [
        "12. (4б) Задекоруйте двома різними способами функції з завдання 4 та 5 декоратором із завдання 11. (**УВАГА**: не декоруйте функції двічі!)."
      ]
    },
    {
      "cell_type": "code",
      "execution_count": null,
      "metadata": {
        "id": "06lj7eq_DwZe"
      },
      "outputs": [],
      "source": [
        "def start_end_decor(my_function):\n",
        "    def wrapper(*args, **kwargs):\n",
        "        print(f\"Початок виконання функції {my_function.__name__}\")\n",
        "        my_function(*args, **kwargs)\n",
        "        print(f\"Завершення виконання функції {my_function.__name__}\")\n",
        "    return wrapper\n",
        "\n",
        "#Decorated function 4\n",
        "@start_end_decor #Method 1\n",
        "def func_division(a,b):\n",
        "    if b == 0:\n",
        "        return print(None)\n",
        "    else:\n",
        "        return print(a/b)\n",
        "func_division(2,0)\n",
        "#Output\n",
        "#Початок виконання функції func_division\n",
        "#None\n",
        "#Завершення виконання функції func_division\n",
        "\n",
        "func_division(2,1)\n",
        "#Output\n",
        "#Початок виконання функції func_division\n",
        "#2.0\n",
        "#Завершення виконання функції func_division\n",
        "\n",
        "#Decorated function 5\n",
        "def func_subtraction(a,b=1):\n",
        "        return print(a-b)\n",
        "func_subtraction = start_end_decor(func_subtraction) #Method 2\n",
        "func_subtraction(23)   \n",
        "#Output\n",
        "#Початок виконання функції func_subtraction\n",
        "#22\n",
        "#Завершення виконання функції func_subtraction\n",
        "\n",
        "\n",
        "  \n"
      ]
    },
    {
      "cell_type": "markdown",
      "metadata": {
        "id": "P0ep1urBDzf-"
      },
      "source": [
        "13. (2б) Викличте одну з задекорованих функцій і виведіть її результат на екран."
      ]
    },
    {
      "cell_type": "code",
      "execution_count": null,
      "metadata": {
        "id": "1QvTw0ctD0S3"
      },
      "outputs": [],
      "source": [
        "func_division(2,1)\n",
        "#Output\n",
        "#Початок виконання функції func_division\n",
        "#2.0\n",
        "#Завершення виконання функції func_division"
      ]
    },
    {
      "cell_type": "markdown",
      "metadata": {
        "id": "poECCpuoD2S9"
      },
      "source": [
        "# IV. Recursion."
      ]
    },
    {
      "cell_type": "markdown",
      "metadata": {
        "id": "DqkURfdsD7MY"
      },
      "source": [
        "14. (4б) Назвіть дві частини функції, які є обовʼязковими для того, щоб називати її рекурсивною.\n"
      ]
    },
    {
      "cell_type": "markdown",
      "metadata": {
        "id": "HYW6ttIeIQIU"
      },
      "source": [
        "\n",
        "1. Умова зупину, стандартний випадок\n",
        "2. Рекурсивний виклик, який наближає програму до стандартного випадку"
      ]
    },
    {
      "cell_type": "markdown",
      "metadata": {
        "id": "WYVt20UmEA35"
      },
      "source": [
        "15. (15б) Визначте функцію, яка рекурсивно реалізовує пошук числа у послідовності Фібоначчі за її індексом (нумерація починається з нуля). Наприклад, потрібно знайти перше число у послідовності, тоді функція прийматиме 0 у якості аргумента і повертатиме 1, якщо ж знаходити третє число (індекс 2) послідовності, то функція повертатиме 2, якщо ж знаходити десяте число (індекс 9), то функція повертатиме 55."
      ]
    },
    {
      "cell_type": "code",
      "execution_count": null,
      "metadata": {
        "id": "xIMhp05AIpV_"
      },
      "outputs": [],
      "source": [
        "def fibonacci(n):\n",
        "    if n == 0:\n",
        "        return 1\n",
        "    elif n == 1:\n",
        "        return 1\n",
        "    else:\n",
        "        return fibonacci(n - 1) + fibonacci(n - 2)\n",
        "index = 0\n",
        "print(f\"Число Фібоначчі з індексом {index}: {fibonacci(index)}\")\n",
        "\n",
        "index = 2\n",
        "print(f\"Число Фібоначчі з індексом {index}: {fibonacci(index)}\")\n",
        "\n",
        "index = 9\n",
        "print(f\"Число Фібоначчі з індексом {index}: {fibonacci(index)}\")\n",
        "\n",
        "#Число Фібоначчі з індексом 0: 1\n",
        "#Число Фібоначчі з індексом 2: 2\n",
        "#Число Фібоначчі з індексом 9: 55"
      ]
    },
    {
      "cell_type": "markdown",
      "metadata": {
        "id": "ytXC8n_4Ip0W"
      },
      "source": [
        "# Вітаю! Ви велика(ий) молодець, що впоралась(вся). Похваліть себе та побалуйте чимось приємним. Я Вами пишаюся."
      ]
    }
  ],
  "metadata": {
    "colab": {
      "provenance": []
    },
    "kernelspec": {
      "display_name": "Python 3",
      "name": "python3"
    },
    "language_info": {
      "name": "python"
    }
  },
  "nbformat": 4,
  "nbformat_minor": 0
}
