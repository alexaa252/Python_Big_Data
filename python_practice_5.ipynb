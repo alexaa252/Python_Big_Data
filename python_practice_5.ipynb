{
  "cells": [
    {
      "cell_type": "markdown",
      "metadata": {
        "id": "5qV_sehzFCTp"
      },
      "source": [
        "# I. OOP"
      ]
    },
    {
      "cell_type": "markdown",
      "metadata": {
        "id": "tx_U_hOALyfg"
      },
      "source": [
        "1. (6б). Створіть клас Building, додайте три атрибути, один з яких має значення за замовчуванням та два методи на свій розсуд."
      ]
    },
    {
      "cell_type": "code",
      "execution_count": null,
      "metadata": {},
      "outputs": [],
      "source": [
        "class Building():\n",
        "    def __init__(self, floors, material, address=\"Wernapi Ring 25\"):\n",
        "        \n",
        "        if isinstance(floors, int) and floors >= 0:\n",
        "            self.floors = floors \n",
        "        else:\n",
        "            raise ValueError(\"Floors must be a positive integer.\")\n",
        "\n",
        "        if isinstance(material, (str)):\n",
        "            self.material = material\n",
        "        else:\n",
        "            raise ValueError(\"Material must be a string, not a number.\")  \n",
        "        self.address = address\n",
        "\n",
        "    def get_info(self):\n",
        "        return f\"Building at {self.address} has {self.floors} and is made of {self.material}.\"\n",
        "   \n",
        "    def renovate(self, new_material):\n",
        "        self.material = new_material\n",
        "        return f\"The building at {self.address} has been renovated with {self.material}.\"\n",
        "    \n",
        "building_1 =Building(10, \"foam blocks\")\n",
        "print(building_1.get_info())\n",
        "#Building at Wernapi Ring 25 has 10 and is made of foam blocks.\n"
      ]
    },
    {
      "cell_type": "markdown",
      "metadata": {
        "id": "X_UlOMB0L93w"
      },
      "source": [
        "2. (2б). Створіть два обʼєкти цього класу, де один з обʼєктів створюється із дефолтним значенням атрибуту. На одному обʼєкті отримайте значення його атрибуту, а на іншому викличте один з його методів."
      ]
    },
    {
      "cell_type": "code",
      "execution_count": null,
      "metadata": {},
      "outputs": [],
      "source": [
        "building_1 = Building(10, \"foam blocks\")\n",
        "building_2 = Building(15, \"bricks\", \"Passauer Strasse 4\")\n",
        "\n",
        "print(f\"Building 1 material: {building_1.material}\")\n",
        "print(building_2.get_info())\n",
        "\n",
        "\"\"\"\n",
        "Building 1 material: foam blocks\n",
        "Building at Passauer Strasse 4 has 15 and is made of bricks.\n",
        "\"\"\""
      ]
    },
    {
      "cell_type": "markdown",
      "metadata": {
        "id": "HoqSCZt1MHn5"
      },
      "source": [
        "3. (5б). Створіть клас, де атрибути мають різні рівні доступу. Спробуйте отримати їхні значення та опишіть результати."
      ]
    },
    {
      "cell_type": "code",
      "execution_count": null,
      "metadata": {
        "id": "r9b3vJxBMSPV"
      },
      "outputs": [],
      "source": [
        "class Building():\n",
        "    def __init__(self, floors, material, address=\"Wernapi Ring 25\"):\n",
        "        \n",
        "        if isinstance(floors, int) and floors >= 0:\n",
        "            self._floors = floors \n",
        "        else:\n",
        "            raise ValueError(\"Floors must be a positive integer.\")\n",
        "\n",
        "        if isinstance(material, (str)):\n",
        "            self.__material = material\n",
        "        else:\n",
        "            raise ValueError(\"Material must be a string, not a number.\")  \n",
        "        self.address = address\n",
        "\n",
        "    def get_material(self):\n",
        "        return self.__material\n",
        "    \n",
        "    def renovate(self, new_material):\n",
        "        self.__material = new_material\n",
        "        return f\"The building at {self.address} with {self._floors} floors has been renovated with {self.__material}.\"\n",
        "    \n",
        "building_1 = Building(10, \"foam blocks\")\n",
        "\n",
        "# Доступ до атрибутів\n",
        "print(f\"Public attribute (address): {building_1.address}\")  # Доступний\n",
        "print(f\"Protected attribute (_floors): {building_1._floors}\")  # Доступний, але слід уникати прямого доступу\n",
        "try:\n",
        "    print(f\"Private attribute (__material): {building_1.__material}\")  # Викине помилку AttributeError: 'Building' object has no attribute '__material'\n",
        "except AttributeError:\n",
        "    print(\"Cannot access private attribute __material directly!\")\n",
        "\n",
        "# Доступ через метод\n",
        "print(f\"Private attribute via method: {building_1.get_material()}\")\n",
        "\n",
        "\"\"\"\n",
        "Public attribute (address): Wernapi Ring 25\n",
        "Protected attribute (_floors): 10\n",
        "Cannot access private attribute __material directly!\n",
        "Private attribute via method: foam blocks\n",
        "\"\"\"\n",
        "\n"
      ]
    },
    {
      "cell_type": "markdown",
      "metadata": {
        "id": "5op2m2vgMSkZ"
      },
      "source": [
        "4. (7б). Як ви розумієте термін self? Для чого використовується метод __init __?"
      ]
    },
    {
      "cell_type": "markdown",
      "metadata": {
        "id": "DyiPqNRvMasx"
      },
      "source": [
        "Self - перший аргумент, зарезервована змінна, вказівник на сам об'єкт, містить в собі інформацію про об'єкт, його стан та атрибути, не враховується в кількість атрибутів.\n",
        "\n",
        "__init __ - метод, який дозволяю ініціалізувати перший стан об'єкту одразу після його створення."
      ]
    },
    {
      "cell_type": "markdown",
      "metadata": {
        "id": "-6X8EGfjMd2y"
      },
      "source": [
        "5. (9б). Створіть клас 3D-фігура без атрибутів, з методом get_volume для отримання об'єму фігури, що повертає 0 та __add __, який приймає self та other в якості аргументів, а повертає суму об'ємів 3d-фігур self та other."
      ]
    },
    {
      "cell_type": "code",
      "execution_count": null,
      "metadata": {
        "id": "4rvO_wYUMaEr"
      },
      "outputs": [],
      "source": [
        "class Figure():\n",
        "    pass\n",
        "\n",
        "    def get_volume(self):\n",
        "        return 0\n",
        "\n",
        "    def __add__(self, other):\n",
        "        return self.get_volume() + other.get_volume()\n",
        "\n",
        "figure1 = Figure()\n",
        "figure2 = Figure()\n",
        "\n",
        "sum = figure1 + figure2\n",
        "\n",
        "print(sum)\n",
        "\n",
        "#0"
      ]
    },
    {
      "cell_type": "markdown",
      "metadata": {
        "id": "SFcKnnv5Mo_z"
      },
      "source": [
        "6. (11б). Створіть 2 дочірніх класи від 3d-фігура: Циліндр та Куб, які мають атрибути, необхідні для розрахунку об'єму. Визначте метод get_volume в кожному з них так, щоби вони розраховували об'єм у залежності від формули для кожного типу фігури. Створіть обʼєкт класу Циліндр та обʼєкт класу Куб. Виконайте операцію суми за допомогою оператора + між ними, аби знайти сумарний об'єм."
      ]
    },
    {
      "cell_type": "code",
      "execution_count": null,
      "metadata": {
        "id": "H3GVNr69Muf3"
      },
      "outputs": [],
      "source": [
        "class Figure():\n",
        "    pass\n",
        "\n",
        "    def get_volume(self):\n",
        "        return 0\n",
        "\n",
        "    def __add__(self, other):\n",
        "        return self.get_volume() + other.get_volume()\n",
        "    \n",
        "class Cylinder(Figure):\n",
        "    def __init__(self, radius, height):\n",
        "        self.radius = radius\n",
        "        self.height = height\n",
        "    def get_volume(self):\n",
        "        return 2.1416 * self.radius**2 * self.height\n",
        "class Cube(Figure):\n",
        "    def __init__(self, side):\n",
        "        self.side = side\n",
        "    def get_volume(self):\n",
        "        return self.side ** 3\n",
        "    \n",
        "cylinder = Cylinder(13, 5)\n",
        "cube = Cube(24)\n",
        "\n",
        "total_volume = cylinder + cube\n",
        "print(f\"Total volume: {total_volume}\")\n",
        "\n",
        "#Total volume: 15633.652"
      ]
    },
    {
      "cell_type": "markdown",
      "metadata": {
        "id": "HCvR206YMvLK"
      },
      "source": [
        "7. (3б). Продемонструйте різницю між isinstance та issubclass."
      ]
    },
    {
      "cell_type": "code",
      "execution_count": null,
      "metadata": {
        "id": "L_V1bBvDM0GN"
      },
      "outputs": [],
      "source": [
        "#isinstance використовується для перевірки, чи є об'єкт екземпляром конкретного класу або його нащадка\n",
        "print(isinstance(cylinder, Figure))  # True, оскільки cylinder є об'єктом класу-нащадка\n",
        "print(isinstance(cylinder, Cylinder))  # True, оскільки cylinder є об'єктом цього класу\n",
        "print(isinstance(cylinder, Cube))  # False, оскільки cylinder не є екземпляром Cube\n",
        "#issubclass використовується для перевірки, чи є один клас підкласом іншого\n",
        "print(issubclass(Cylinder, Figure))  # True, оскільки Cylinder успадковує Figure\n",
        "print(issubclass(Cube, Figure))  # True, оскільки Cube успадковує Figure\n",
        "print(issubclass(Cube, Cylinder))  # False, оскільки Cube і Cylinder не мають відносин наслідування\n"
      ]
    },
    {
      "cell_type": "markdown",
      "metadata": {
        "id": "jjsaBZ-iM0Qq"
      },
      "source": [
        "8. (13б). Створіть клас EWallet з приватними атрибутами balance та id. Реалізуйте методи поповнення та зняття коштів, забезпечивши належну інкапсуляцію. Підказка: використовуйте декоратори property та setter."
      ]
    },
    {
      "cell_type": "code",
      "execution_count": null,
      "metadata": {
        "id": "xCvZ7lh8M7YA"
      },
      "outputs": [],
      "source": [
        "class EWallet:\n",
        "    def __init__(self, wallet_id, balance=0):\n",
        "        self.__id = wallet_id\n",
        "        self.__balance = balance if balance >= 0 else 0\n",
        "\n",
        "    @property\n",
        "    def balance(self):\n",
        "        return self.__balance\n",
        "    @property\n",
        "    def id(self):\n",
        "        return self.__id\n",
        "    \n",
        "    def deposit(self, amount):\n",
        "        if amount > 0:\n",
        "            self.__balance += amount\n",
        "            print(f\"Your balance topped up with {amount}.\")\n",
        "        else:\n",
        "            print(\"The top-up amount must be greater than zero.\")\n",
        "    def withdraw(self, amount):\n",
        "        if amount > 0 and amount <= self.__balance:\n",
        "            self.__balance -= amount\n",
        "            print(f\"{amount} withdrawn. Your current balance {self.__balance}.\")\n",
        "        elif amount > self.__self.__balance:\n",
        "            print(\"Insufficient funds in the account.\")\n",
        "        else:\n",
        "            print(\"Withdrawal amount must be greater than zero.\")\n",
        "\n",
        "ewallet = EWallet(\"my_wallet\", 3000)\n",
        "print(\"ID:\", ewallet.id)\n",
        "print(\"Initial balance:\", ewallet.balance)\n",
        "\n",
        "ewallet.deposit(2000)\n",
        "ewallet.withdraw(5000)\n",
        "\n",
        "\"\"\"\n",
        "Output:\n",
        "ID: my_wallet\n",
        "Initial balance: 3000\n",
        "Your balance topped up with 2000.\n",
        "5000 withdrawn. Your current balance 0.\n",
        "\"\"\""
      ]
    },
    {
      "cell_type": "markdown",
      "metadata": {
        "id": "tIzL2SJTM8ft"
      },
      "source": [
        "9. (11б). Створіть клас ShoppingCart, який містить список об'єктів типу Item. Реалізуйте методи для додавання айтемів, їх видалення та відображення списку айтемів."
      ]
    },
    {
      "cell_type": "code",
      "execution_count": null,
      "metadata": {
        "id": "HWxfJKLtNAUZ"
      },
      "outputs": [],
      "source": [
        "class Item:\n",
        "    def __init__(self, name, colour):\n",
        "        self.name = name\n",
        "        self.colour = colour\n",
        "    def __str__(self):\n",
        "        return f\"{self.name}: {self.colour}\"\n",
        "    \n",
        "class ShoppingCart:\n",
        "    def __init__(self):\n",
        "        self.items = []\n",
        "    def add_item(self, item):\n",
        "        self.items.append(item)\n",
        "        print(f\"{item.name} is added to the shoppint cart.\")\n",
        "    def remove_item(self, item_name):\n",
        "        for item in self.items:\n",
        "            if item.name == item_name:\n",
        "                self.items.remove(item)\n",
        "                print(f\"{item.name} is removed from the shoppint cart.\")\n",
        "                return\n",
        "            print(f\"{item.name} is not found in the shoppint cart.\")\n",
        "    def display_item(self):\n",
        "        if not self.items:\n",
        "            print(\"Shopping cart is empty\")\n",
        "        else:\n",
        "            print(\"List of items in the shoppint cart:\")\n",
        "            for item in self.items:\n",
        "                print(f\"- {item}\")\n",
        "\n",
        "myCart = ShoppingCart()\n",
        "item1 = Item(\"Notebook\", \"grey\")\n",
        "item2 = Item(\"Book\", \"red\")\n",
        "item3 = Item(\"Ipad\", \"silver\")\n",
        "\n",
        "myCart.add_item(item1)\n",
        "myCart.add_item(item2)\n",
        "myCart.add_item(item3)\n",
        "myCart.display_item()\n",
        "\n",
        "myCart.remove_item(\"Notebook\")\n",
        "myCart.display_item()\n",
        "\n",
        "\"\"\"\n",
        "Output\n",
        "Notebook is added to the shoppint cart.\n",
        "Book is added to the shoppint cart.\n",
        "Ipad is added to the shoppint cart.\n",
        "List of items in the shoppint cart:\n",
        "- Notebook: grey\n",
        "- Book: red\n",
        "- Ipad: silver\n",
        "Notebook is removed from the shoppint cart.\n",
        "List of items in the shoppint cart:\n",
        "- Book: red\n",
        "- Ipad: silver\n",
        "\"\"\"\n",
        "\n",
        "\n",
        "\n"
      ]
    },
    {
      "cell_type": "markdown",
      "metadata": {
        "id": "lmV8pAwwNIqu"
      },
      "source": [
        "10. (13б). Створіть клас Vehicle з атрибутами brand (manufacturer) та production_age. Створіть ще один клас Engine з такими атрибутами, як type (ex. petrol) та size (volume, litres). Створіть клас Car, який успадковує обидва класи Vehicle та Engine. Продемонструйте використання множинної спадковості, створивши обʼєкт класу Car та отримавши mro для цього класу."
      ]
    },
    {
      "cell_type": "code",
      "execution_count": null,
      "metadata": {
        "id": "R49grKlWNPeN"
      },
      "outputs": [],
      "source": [
        "class Vehicle:\n",
        "    def __init__(self, brand, production_age):\n",
        "        self.brand = brand\n",
        "        self.production_age = production_age\n",
        "    def __str__(self):\n",
        "        return f\"Brand: {self.brand}, Production Age: {self.production_age}.\"\n",
        "class Engine:\n",
        "    def __init__(self, type, size):\n",
        "        self.type = type\n",
        "        self.size = size\n",
        "    def __str__(self):\n",
        "        return f\"Engine Type: {self.type}, Size: {self.size}\"\n",
        "class Car(Vehicle, Engine):\n",
        "    def __init__(self, brand, production_age, type, size):\n",
        "        Vehicle.__init__(self, brand, production_age)\n",
        "        Engine.__init__(self, type, size)\n",
        "    def __str__(self):\n",
        "        return f\"{Vehicle.__str__(self)}, {Engine.__str__(self)}\"\n",
        "car = Car(\"Bentley\", 7, \"Petrol\", 7.8)\n",
        "print(car)\n",
        "Car.mro()  \n",
        "\"\"\"\n",
        "Brand: Bentley, Production Age: 7., Engine Type: Petrol, Size: 7.8\n",
        "[__main__.Car, __main__.Vehicle, __main__.Engine, object]\"\n",
        "\"\"\""
      ]
    },
    {
      "cell_type": "markdown",
      "metadata": {
        "id": "dIJyUiNBFG8G"
      },
      "source": [
        "# II. Iterator"
      ]
    },
    {
      "cell_type": "markdown",
      "metadata": {
        "id": "13vsm0NyKIzL"
      },
      "source": [
        "11. (4б). Визначте рядок(str) з 4ма різними за значенням символами. Створіть ітератор на основі цього рядка. Викличте 5 разів функцію next на ітераторі, 4ри перших з них огорніть у ф-цію print()."
      ]
    },
    {
      "cell_type": "code",
      "execution_count": null,
      "metadata": {
        "id": "81ntabAkKuz-"
      },
      "outputs": [],
      "source": [
        "my_str = \"1234\"\n",
        "my_iterator = iter(my_str)\n",
        "\n",
        "#4 рази\n",
        "print(next(my_iterator))\n",
        "print(next(my_iterator))\n",
        "print(next(my_iterator))\n",
        "print(next(my_iterator))\n",
        "\n",
        "#5ий раз\n",
        "try: \n",
        "  next(my_iterator)\n",
        "except StopIteration:\n",
        "    print(\"Stop\")\n",
        "\n",
        "#Output\n",
        "#1\n",
        "#2\n",
        "#3\n",
        "#4\n",
        "#Stop\n"
      ]
    },
    {
      "cell_type": "markdown",
      "metadata": {
        "id": "aekWHGXOLRsO"
      },
      "source": [
        "А що якщо викликати цю ж функцію на рядку?"
      ]
    },
    {
      "cell_type": "code",
      "execution_count": null,
      "metadata": {
        "id": "mxATGsErLV1i"
      },
      "outputs": [],
      "source": [
        "print(next(my_str))\n",
        "#Result\n",
        "#TypeError: 'str' object is not an iterator"
      ]
    },
    {
      "cell_type": "markdown",
      "metadata": {
        "id": "XwtMEopwJ4pH"
      },
      "source": [
        " 12. (5б). Опишіть своїми словами в одному реченні, як ви розумієте різницю між ітерабельними обʼєктами та ітераторами (можна на прикладі)."
      ]
    },
    {
      "cell_type": "markdown",
      "metadata": {
        "id": "-sHrODc3KFn8"
      },
      "source": [
        "Ітерабельні об'єкти - обєкти, по яких ми можемо проходитися по ітераціях тобто в циклі (послідовності, списки, словники), сталі об'єкти, які одразу мають всю послідовність в собі\n",
        "Ітератори - вказівники, які слідкують за порядком повернення елементів з ітерабельного об'єкту"
      ]
    },
    {
      "cell_type": "markdown",
      "metadata": {
        "id": "E9qJWmNbK8Gl"
      },
      "source": [
        "13. (11б). Створіть клас, що має визначений Iterator Protocol та при кожному виклику next повертає назву дня тижня, поки вони не вичерпаються. Зверніть увагу, що порядок має значення."
      ]
    },
    {
      "cell_type": "code",
      "execution_count": null,
      "metadata": {
        "id": "cqx-g_RsLo6I"
      },
      "outputs": [],
      "source": [
        "class IteratorWeekday:\n",
        "    def __init__(self, weeekdays):\n",
        "        self.weeekdays = weeekdays\n",
        "        self.index = 0\n",
        "\n",
        "    def __iter__(self):\n",
        "        return self\n",
        "\n",
        "    def __next__(self):\n",
        "        if self.index < len(self.weeekdays):\n",
        "            weeekday = self.weeekdays[self.index]\n",
        "            self.index += 1\n",
        "            return weeekday\n",
        "        else:\n",
        "            raise StopIteration\n",
        "\n",
        "\n",
        "weeekdays = IteratorWeekday([\"Monday\", \"Tuesday\", \"Wednesday\", \"Thursday\", \"Friday\", \"Saturday\", \"Sunday\"])\n",
        "\n",
        "\n",
        "for weeekday in weeekdays:\n",
        "    print(weeekday)\n",
        "\n",
        "\"\"\"\n",
        "Monday\n",
        "Tuesday\n",
        "Wednesday\n",
        "Thursday\n",
        "Friday\n",
        "Saturday\n",
        "Sunday\n",
        "\"\"\""
      ]
    },
    {
      "cell_type": "markdown",
      "metadata": {
        "id": "Z3E3S_s1Fv7-"
      },
      "source": [
        "# Вітаю! Ви велика(ий) молодець, що впоралась(вся). Похваліть себе та побалуйте чимось приємним. Я Вами пишаюся."
      ]
    }
  ],
  "metadata": {
    "colab": {
      "provenance": []
    },
    "kernelspec": {
      "display_name": "Python 3",
      "name": "python3"
    },
    "language_info": {
      "name": "python"
    }
  },
  "nbformat": 4,
  "nbformat_minor": 0
}
