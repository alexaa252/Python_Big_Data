{
  "cells": [
    {
      "cell_type": "markdown",
      "metadata": {
        "id": "qDEi2Pi-4yUC"
      },
      "source": [
        "# I. Оператори порівняння та логічні оператори. Умови."
      ]
    },
    {
      "cell_type": "markdown",
      "metadata": {
        "id": "3v8D4Dkm43Ua"
      },
      "source": [
        "1. (5б) Створіть цілочисленну змінну зі своїм щасливим або улюбленим числом. Напишіть код, який би автоматизовував наступну задачу.\n",
        "\n",
        "Якщо число парне, помножте його на 2 та виведіть результат на екран.\n",
        "\n",
        "Але якщо число непарне, помножте його на 3 та додайте 1 і виведіть на екран."
      ]
    },
    {
      "cell_type": "code",
      "execution_count": null,
      "metadata": {
        "id": "dlVjc-Nu4bmb"
      },
      "outputs": [],
      "source": [
        "lucky_number = 7\n",
        "if (lucky_number%2 == 0):\n",
        "    print(lucky_number * 2)\n",
        "elif (lucky_number%2 != 0):\n",
        "    print(lucky_number * 3 + 1)   \n",
        "\n",
        "#Output \n",
        "#22\n"
      ]
    },
    {
      "cell_type": "markdown",
      "metadata": {
        "id": "H669P0QK5BI_"
      },
      "source": [
        "2. (9б) Створіть змінну, що посилається на список. Якщо список пустий, додайте будь-який елемент у кінець списку. Якщо ж ні, то нічого не робіть."
      ]
    },
    {
      "cell_type": "code",
      "execution_count": null,
      "metadata": {
        "id": "ecWlfra45f6E"
      },
      "outputs": [],
      "source": [
        "list_var = []\n",
        "if not list_var:\n",
        "    list_var.append(45)\n",
        "    print(list_var)\n",
        "\n",
        "#Output\n",
        "#[45]"
      ]
    },
    {
      "cell_type": "markdown",
      "metadata": {
        "id": "h9Y3cMUd5h85"
      },
      "source": [
        "3. (13б) Створіть рядок зі своїм імʼям латинкою. Напишіть код, який би автоматизовував наступну задачу.\n",
        "\n",
        "Якщо в імені є літера \"а\"\n",
        " або \"i\", Виведіть на екран повідомлення \"A or I is in the name\".\n",
        "\n",
        "\n",
        "\n",
        "Якщо в імені є літери \"o\" та \"n\", Виведіть на екран повідомлення \"O and N is in the name\".\n",
        "\n",
        "Також якщо в імені немає літери \"о\", але є \"n\", Виведіть на екран повідомлення \"Only N is in the name\".\n",
        "\n",
        "В решті випадків виведіть на екран повідомлення \"There is no N in the name, but there might be O\".\n",
        "\n",
        "Зверніть увагу, що, наприклад, для імені \"Antonina\" буде виведено два повідомлення."
      ]
    },
    {
      "cell_type": "code",
      "execution_count": null,
      "metadata": {
        "id": "bUH4LUx35u52"
      },
      "outputs": [],
      "source": [
        "my_name = \"Oleksandra\"\n",
        "if (\"a\" in my_name.lower() or \"i\" in my_name.lower()):\n",
        "    print(\"A or I is in the name\")\n",
        "if (\"o\" in my_name.lower() or \"n\" in my_name.lower()): \n",
        "    print(\"O or N is in the name\")  \n",
        "elif (\"o\" not in my_name.lower() and \"n\" in my_name.lower()): \n",
        "    print(\"Only  is in the name\") \n",
        "else: print(\"There is no N in the name, but there might be O\")\n",
        "\n",
        "#Output\n",
        "#A or I is in the name\n",
        "#O or N is in the name"
      ]
    },
    {
      "cell_type": "markdown",
      "metadata": {
        "id": "wPCXJv4354cU"
      },
      "source": [
        "# II. Comprehensions."
      ]
    },
    {
      "cell_type": "markdown",
      "metadata": {
        "id": "jULLW5jN55Pw"
      },
      "source": [
        "4. (5б) Створіть список, використовуючи if (не if-else), range та comprehension."
      ]
    },
    {
      "cell_type": "code",
      "execution_count": null,
      "metadata": {
        "id": "mlZalnVC6W3F"
      },
      "outputs": [],
      "source": [
        "even_numbers = [x for x in range(1, 21) if x % 2 == 0]\n",
        "print(even_numbers)\n",
        "\n",
        "#Output\n",
        "#[2, 4, 6, 8, 10, 12, 14, 16, 18, 20]"
      ]
    },
    {
      "cell_type": "markdown",
      "metadata": {
        "id": "LqhEQ4JW6XcC"
      },
      "source": [
        "5. (9б) Створіть словник, використовуючи dict comprehension, що містить if else. Коли слід використовувати comprehensions, а коли їх слід уникати?"
      ]
    },
    {
      "cell_type": "code",
      "execution_count": null,
      "metadata": {
        "id": "1yVaFbOs6hta"
      },
      "outputs": [],
      "source": [
        "dict_var = {x: \"even\" if x % 2 == 0 else \"odd\" for x in range(1, 21)}\n",
        "print(dict_var)\n",
        "\n",
        "#Output\n",
        "#{1: 'odd', 2: 'even', 3: 'odd', 4: 'even', 5: 'odd', 6: 'even', 7: 'odd', 8: 'even', 9: 'odd', 10: 'even', 11: 'odd', 12: 'even', 13: 'odd', 14: 'even', 15: 'odd', 16: 'even', 17: 'odd', 18: 'even', 19: 'odd', 20: 'even'}"
      ]
    },
    {
      "cell_type": "markdown",
      "metadata": {
        "id": "wbkzNhKq6hzz"
      },
      "source": [
        "Comprehensions слід використовувати, якщо код простий і компактний, підходить для однорядкового запису. Коли ж код складний, comprehensions буде знижувати читабельність коду, тому його треба уникати."
      ]
    },
    {
      "cell_type": "markdown",
      "metadata": {
        "id": "ZlqB8G3G6lHP"
      },
      "source": [
        "6. (9б) Створіть список з рядками та запишіть його у змінну. Створіть ще один список на основі попереднього, де кожен рядок буде містити тільки три перших заглавних символи. Наприклад: ['hello', 'i', 'dont', 'care'] -> ['HEL', 'I', 'DON', 'CAR']. Використання comprehensions обовʼязкове."
      ]
    },
    {
      "cell_type": "code",
      "execution_count": null,
      "metadata": {
        "id": "nw6rz0bR60VC"
      },
      "outputs": [],
      "source": [
        "set_var1 = ['love', 'piece', 'pleasure', 'care']\n",
        "set_var2 = [var[:3].upper() for var in set_var1]\n",
        "print(set_var1)\n",
        "print(set_var2)\n",
        "\n",
        "#Output\n",
        "#['love', 'piece', 'pleasure', 'care']\n",
        "#['LOV', 'PIE', 'PLE', 'CAR']"
      ]
    },
    {
      "cell_type": "markdown",
      "metadata": {
        "id": "Tj573IAH64Fz"
      },
      "source": [
        "# III. Цикли."
      ]
    },
    {
      "cell_type": "markdown",
      "metadata": {
        "id": "tN_33xdE65H5"
      },
      "source": [
        "7. (5б) Продемонструйте роботу циклу while. Не можна використовувати True для запуску циклу, щоб уникнути безкінечного циклу!"
      ]
    },
    {
      "cell_type": "code",
      "execution_count": null,
      "metadata": {
        "id": "Kd9FO6yG63P5"
      },
      "outputs": [],
      "source": [
        "counter = 4\n",
        "while counter > 0:\n",
        "    print(counter)\n",
        "    counter -= 1\n",
        "print(\"We finished\")    \n",
        "\n",
        "#Output\n",
        "#4\n",
        "#3\n",
        "#2\n",
        "#1\n",
        "#We finished"
      ]
    },
    {
      "cell_type": "markdown",
      "metadata": {
        "id": "x2CmfZO-7pW0"
      },
      "source": [
        "8. (5б) Напишіть програму, яка виведе на екран непарні числа в діапазоні від 0 до 20 включно."
      ]
    },
    {
      "cell_type": "code",
      "execution_count": null,
      "metadata": {
        "id": "aCSRYA6s7tkF"
      },
      "outputs": [],
      "source": [
        "count = 0\n",
        "while count < 21:\n",
        "    if (count%2 != 0):\n",
        "        print(count)\n",
        "    count += 1     \n",
        "#Output\n",
        "#1\n",
        "#3\n",
        "#5\n",
        "#7\n",
        "#9\n",
        "#11\n",
        "#13\n",
        "#15\n",
        "#17\n",
        "#19"
      ]
    },
    {
      "cell_type": "markdown",
      "metadata": {
        "id": "MDWNocZD7t_B"
      },
      "source": [
        "9. (13б) Створіть список з елементами булевого типу або None. Використовуючи цикли, отримайте в результаті список з кортежами, де перший елемент кортежу - індекс(ціле число), а другий елемент - відповідне значення з першого списку.\n",
        "\n",
        "Наприклад, [True, True, None, False] -> [(0, True), (1, True), (2, None), (3, False)]"
      ]
    },
    {
      "cell_type": "code",
      "execution_count": null,
      "metadata": {
        "id": "0EUyjMdp7yfh"
      },
      "outputs": [],
      "source": [
        "bool_list = [True, False, None, True, True, None, False]\n",
        "tuple_list = [(ind, val) for ind, val in enumerate(bool_list)]\n",
        "print(tuple_list)\n",
        "#Output\n",
        "#[(0, True), (1, False), (2, None), (3, True), (4, True), (5, None), (6, False)]"
      ]
    },
    {
      "cell_type": "markdown",
      "metadata": {
        "id": "-6XUqlcG7zKs"
      },
      "source": [
        "10. (9б) Створіть словник, де ключі - назви книжок, а значення - їхня кількість у наявності в Вашій міні-бібліотеці. Бібліотека має містити щонайменше 6 книжок (6 пар значень у словнику) і щонайбільше 10 (пар значень). Використовуючи цикли, оновіть словник (не створюйте новий) так, щоби кількість книг у наявності збільшилося на 5 кожної книги. Наприклад,\n",
        "{'It': 3, 'Fault stars': 10, 'Bible': 17, 'Psychological romance': 4, 'Harry Potter': 13} -> {'It': 8, 'Fault stars': 15, 'Bible': 22, 'Psychological romance': 9, 'Harry Potter': 18}"
      ]
    },
    {
      "cell_type": "code",
      "execution_count": null,
      "metadata": {
        "id": "Ceoj9wwb791q"
      },
      "outputs": [],
      "source": [
        "dict_var = {\n",
        "    'It': 3,\n",
        "    'Fault stars': 10,\n",
        "    'Bible': 17,\n",
        "    'Psychological romance': 4,\n",
        "    'Harry Potter': 13,\n",
        "    'Dune': 7\n",
        "}\n",
        "for book in dict_var:\n",
        "    dict_var[book] += 5\n",
        "print(dict_var)    \n",
        "\n",
        "#Output\n",
        "#{'It': 8, 'Fault stars': 15, 'Bible': 22, 'Psychological romance': 9, 'Harry Potter': 18, 'Dune': 12}"
      ]
    },
    {
      "cell_type": "markdown",
      "metadata": {
        "id": "QLzyJM288AC7"
      },
      "source": [
        "11. (5б) Визначте цілочислену змінну n, що належить проміжку від 4 до 10 включно. Використовуючи цикли, виведіть в консоль наступний патерн.\n",
        "\n",
        "#\n",
        "##\n",
        "###\n",
        "####\n",
        "\n",
        "... #*n\n"
      ]
    },
    {
      "cell_type": "code",
      "execution_count": null,
      "metadata": {
        "id": "KOpng87s8Duz"
      },
      "outputs": [],
      "source": [
        "n = 6 \n",
        "for i in range(1, n+1):\n",
        "    print('#' * i)     \n",
        "print (\"#*\", n)\n",
        "#Output\n",
        "#\n",
        "##\n",
        "###\n",
        "####\n",
        "#####\n",
        "######\n",
        "#* 6"
      ]
    },
    {
      "cell_type": "markdown",
      "metadata": {
        "id": "_bd-bqAT8EHn"
      },
      "source": [
        "12. (13б) Гра \"Нумо вгадай\".\n",
        "Розробіть просту гру, де користувач має вгадати випадкове число від 1 до 100. Для генерації випадкового числа використовуйте функцію random.randint(a, b) (тут a та b включно). Для отримання числа з консолі використовуйте функцію input(), результат якої обовʼязково явно приведіть до типу int.\n",
        "\n",
        "Підказка: використовуйте цикл while та умови if-else, щоб повідомити користувачу піказки (напр. \"Більше\", \"Менше\") поки користувач не вгадає. По завершенню виведіть кількість спроб, які знадобилися для вгадування."
      ]
    },
    {
      "cell_type": "code",
      "execution_count": null,
      "metadata": {
        "id": "IK9nnxFK8Hkl"
      },
      "outputs": [],
      "source": [
        "import random\n",
        "target = random.randint(1, 100)\n",
        "counter = 0\n",
        "\n",
        "print(\"The Game 'Guess the random number'\")\n",
        "\n",
        "while True:\n",
        "    guess = int(input(\"Your number: \"))\n",
        "    counter += 1\n",
        "\n",
        "    if guess < target:\n",
        "        print(\"Larger'\")\n",
        "    elif guess > target:\n",
        "        print(\"Less'\") \n",
        "    else:\n",
        "        print(\"Wow! You guessed the number {target}. You had {counter} attempts!\") \n",
        "        break\n"
      ]
    },
    {
      "cell_type": "markdown",
      "metadata": {
        "id": "PXoXWb7Z8IGi"
      },
      "source": [
        "# Вітаю! Ви велика(ий) молодець, що впоралась(вся). Похваліть себе та побалуйте чимось приємним. Я Вами пишаюся."
      ]
    }
  ],
  "metadata": {
    "colab": {
      "provenance": []
    },
    "kernelspec": {
      "display_name": "Python 3",
      "name": "python3"
    },
    "language_info": {
      "name": "python"
    }
  },
  "nbformat": 4,
  "nbformat_minor": 0
}
