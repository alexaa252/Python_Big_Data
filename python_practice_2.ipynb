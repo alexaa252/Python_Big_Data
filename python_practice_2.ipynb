{
  "cells": [
    {
      "cell_type": "markdown",
      "metadata": {
        "id": "p9wwt0LZzNvn"
      },
      "source": [
        "# I. Змінні та памʼять."
      ]
    },
    {
      "cell_type": "markdown",
      "metadata": {
        "id": "HTJrrm95xSV9"
      },
      "source": [
        "1. Створити змінні, що посилаються на два цілих числа, що однакові за значенням, де значення належить проміжку від -5 до 256. Перевірте, чи будуть ці змінні рівні тільки за значенням або ж ще будуть посилатися на один і той самий обʼєкт в памʼяті? Наведіть код та дайте текстову відповідь нижче."
      ]
    },
    {
      "cell_type": "code",
      "execution_count": null,
      "metadata": {
        "id": "TATni2vzayjG"
      },
      "outputs": [],
      "source": [
        "num_1 = 100  \n",
        "num_2 = 100 \n",
        "print(id(num_1), id(num_2)) # We check if variables refer to the same object in memory\n",
        "print(\"Values of variables are equal?\", num_1 == num_2) \n",
        "print(\"Variables refer to the same object in memory?\", id(num_1) == id(num_2)) \n",
        "#Output\n",
        "#10754024 10754024\n",
        "#Values of variables are equal? True\n",
        "#Variables refer to the same object in memory? True\n",
        "\n",
        "num_3 = 350\n",
        "num_4 = 350\n",
        "print(id(num_3), id(num_4))\n",
        "print(\"Variables refer to the same object in memory?\", id(num_3) == id(num_4)) \n",
        "#Output:\n",
        "#132413013056208 132413013052080\n",
        "#Variables refer to the same object in memory? False\n"
      ]
    },
    {
      "cell_type": "markdown",
      "metadata": {
        "id": "zfRG_o3WbRdg"
      },
      "source": [
        "Числа від -5 до 256 в Python мють однаковий id"
      ]
    },
    {
      "cell_type": "markdown",
      "metadata": {
        "id": "ISORzt6M3vAt"
      },
      "source": [
        "2. За допомогою якої функції можна перевірити належність змінної до вказаного типу даних (напр. чи змінна True посилається на значення булевого та цілочисленого типу)?"
      ]
    },
    {
      "cell_type": "code",
      "execution_count": null,
      "metadata": {
        "id": "9vL9CFaMbfyo"
      },
      "outputs": [],
      "source": [
        "isinstance(num_1, str) #Result: False\n",
        "isinstance(num_1, int) #Reult: True"
      ]
    },
    {
      "cell_type": "markdown",
      "metadata": {
        "id": "tRxugKAxwYLw"
      },
      "source": [
        "# II. Цілі числа та числа з рухомою комою"
      ]
    },
    {
      "cell_type": "markdown",
      "metadata": {
        "id": "NLHkgd5Gybc8"
      },
      "source": [
        "3. Створити дві змінні, що посилаються на будь-які ціле число та число з рухомою комою та продемонструвати такі арифметичні операції: додавання, віднімання, ділення, множення, ділення без залишку, ділення по модулю, приведення до ступеню. Всі результати операцій вивести на екран."
      ]
    },
    {
      "cell_type": "code",
      "execution_count": null,
      "metadata": {
        "id": "nb8u_3pjb2cA"
      },
      "outputs": [],
      "source": [
        "a = 2\n",
        "b = 3.3\n",
        "print(\"Sum:\",a+b) #Sum: 5.3\n",
        "print(\"Substraction:\", a-b) #Substraction: -1.2999999999999998\n",
        "print(\"Division:\", a/b) #Division: 0.6060606060606061\n",
        "print(\"Multiplication:\", a*b) #Multiplication: 6.6\n",
        "print(\"Division without remainder:\", a//b) #Division without remainder: 0.0\n",
        "print(\"Division by modulo:\", a%b) #Division by modulo: 2.0\n",
        "print(\"Exponentiation:\", a**b) #Exponentiation: 9.849155306759329"
      ]
    },
    {
      "cell_type": "markdown",
      "metadata": {
        "id": "1kBClKgPzZnC"
      },
      "source": [
        "4. Використовуючи змінні з вправи 3, продемонструйте механізм явного перетворення типів, де числа з рухомою комою перетворюються на цілі числа. Також визначте змінну, що посилається на значення булевого типу і спробуйте явно привести її до цілого числа."
      ]
    },
    {
      "cell_type": "code",
      "execution_count": null,
      "metadata": {
        "id": "TbqJbkeUcKsD"
      },
      "outputs": [],
      "source": [
        "int_b = int(b)\n",
        "print(\"int(b) = int(3.3) =\", int_b)\n",
        "#Result: int(b) = int(3.3) = 3\n",
        "\n",
        "float_num = 1.9\n",
        "int_num = int(float_num)\n",
        "print(\"int(float_num) = int(1.9) =\", int_num)\n",
        "#Result: int(float_num) = int(1.9) = 1\n",
        "\n",
        "bool_var1 = True\n",
        "bool_var2 = False\n",
        "int_var1 = int(bool_var1)\n",
        "int_var2 = int(bool_var2)\n",
        "print(int_var1, int_var2) #Result: 1 0\n"
      ]
    },
    {
      "cell_type": "markdown",
      "metadata": {
        "id": "EVJ7AflwxrZi"
      },
      "source": [
        "# IІІ. Рядки (String)."
      ]
    },
    {
      "cell_type": "markdown",
      "metadata": {
        "id": "_s5ECzz9zE61"
      },
      "source": [
        "5. Створити пустий рядок двома різними способами."
      ]
    },
    {
      "cell_type": "code",
      "execution_count": null,
      "metadata": {
        "id": "fkZJHu9Scvc-"
      },
      "outputs": [],
      "source": [
        "str_var1 = \"\"\n",
        "str_var2 = ''"
      ]
    },
    {
      "cell_type": "markdown",
      "metadata": {
        "id": "4Bdn9J3MzLf_"
      },
      "source": [
        "6. Створити рядок з апострофом. Зробити його сирим. Вивести обидва рядка на екран."
      ]
    },
    {
      "cell_type": "code",
      "execution_count": null,
      "metadata": {
        "id": "ivji_hsmc0GH"
      },
      "outputs": [],
      "source": [
        "str_var3 = \"It's me!\"\n",
        "str_var3_raw = r\"It's me!\" \n",
        "print(\"Regular str:\", str_var3)\n",
        "print(\"Raw str:\", str_var3_raw)\n",
        "\n",
        "#Output\n",
        "#Regular str: It's me!\n",
        "#Raw str: It's me!"
      ]
    },
    {
      "cell_type": "markdown",
      "metadata": {
        "id": "bg_d8wM4z8dS"
      },
      "source": [
        "7. Створити змінну, що буде посилатися на Ваше прізвище латинкою. Створити форматований рядок, який буде мати вигляд \"My surname is ______\", де на місці нижніх підкреслень буде Ваше прізвище зі змінної."
      ]
    },
    {
      "cell_type": "code",
      "execution_count": null,
      "metadata": {
        "id": "kuxFgpWndACq"
      },
      "outputs": [],
      "source": [
        "my_name = \"Yefimova Oleksandra\"\n",
        "formated_str = \"My surname is \" + my_name\n",
        "print(formated_str)\n",
        "\n",
        "#Output\n",
        "#My surname is Yefimova Oleksandra"
      ]
    },
    {
      "cell_type": "markdown",
      "metadata": {
        "id": "1Nc6RqvQ0hxU"
      },
      "source": [
        "8. Маючи рядок \"My dog is crazy.\" перетворити його на список [\"my\", \"dog\", \"is\", \"crazy\"]"
      ]
    },
    {
      "cell_type": "code",
      "execution_count": null,
      "metadata": {
        "id": "w1Ya4RqedUhw"
      },
      "outputs": [],
      "source": [
        "str_var4 = \"My dog is crazy\"\n",
        "str_var4 = str_var4.split()\n",
        "print(str_var4)\n",
        "\n",
        "#Output\n",
        "#'My', 'dog', 'is', 'crazy']"
      ]
    },
    {
      "cell_type": "markdown",
      "metadata": {
        "id": "GYVqN9uP1D4n"
      },
      "source": [
        "# IV. Робота зі списками."
      ]
    },
    {
      "cell_type": "markdown",
      "metadata": {
        "id": "7-DeDunw2sO-"
      },
      "source": [
        "9. Створити список двома різними за синтаксисом способами. За допомогою вбудованої функції обчисліть довжину одного з них."
      ]
    },
    {
      "cell_type": "code",
      "execution_count": null,
      "metadata": {
        "id": "zxg06Uuxdyoh"
      },
      "outputs": [],
      "source": [
        "list_var1 = list((2, 5, 7, 0, 9))\n",
        "list_var2 = [1, 3, 5]\n",
        "length_list_var1 = len(list_var1)\n",
        "print(\"Length of list list_var1 is\", length_list_var1)\n",
        "#Result: Length of list list_var1 is 5"
      ]
    },
    {
      "cell_type": "markdown",
      "metadata": {
        "id": "8vmGUTjL22gI"
      },
      "source": [
        "10. Створіть два списка та за допомогою спеціального методу додайте другий з них в якості останнього елемента першого."
      ]
    },
    {
      "cell_type": "code",
      "execution_count": null,
      "metadata": {
        "id": "uHtjWYw7d7hm"
      },
      "outputs": [],
      "source": [
        "list_var1 = list((2, 5, 7, 0, 9))\n",
        "list_var2 = list((1, 3, 5))\n",
        "list_var1.append(list_var2)\n",
        "print(list_var1)\n",
        "#Output\n",
        "#[2, 5, 7, 0, 9, [1, 3, 5]]"
      ]
    },
    {
      "cell_type": "markdown",
      "metadata": {
        "id": "JC3BkD-67_--"
      },
      "source": [
        "11. Створіть список, де елементами цього списку також є списки. Отримай перший елемент з останнього рядка та виведи значення на екран."
      ]
    },
    {
      "cell_type": "code",
      "execution_count": null,
      "metadata": {
        "id": "Kz2jZHsGeLlz"
      },
      "outputs": [],
      "source": [
        "list_var3 = list(([3, 5, 7], [4, 7, 2], [9, 0, 1]))\n",
        "print(list_var3[-1][0])\n",
        "#Output\n",
        "#9"
      ]
    },
    {
      "cell_type": "markdown",
      "metadata": {
        "id": "JA47PKTv8zFK"
      },
      "source": [
        "12. Створіть список з десяти елементів різного типу. Отримайте всі елементи, окрім двох перших та двох останніх та збережіть їх в новій змінній."
      ]
    },
    {
      "cell_type": "code",
      "execution_count": null,
      "metadata": {
        "id": "_rHdUR-ueP4-"
      },
      "outputs": [],
      "source": [
        "list_var4 = [1, True, 5, \"hello\", 5.6, \"python\", 3, 6, False, \"Wow\" ]\n",
        "list_var5 = list_var4[2:-2]\n",
        "print(list_var4)\n",
        "#Output\n",
        "#[5, 'hello', 5.6, 'python', 3, 6]"
      ]
    },
    {
      "cell_type": "markdown",
      "metadata": {
        "id": "pCjR1dJb1Qbi"
      },
      "source": [
        "# V. Робота з кортежами."
      ]
    },
    {
      "cell_type": "markdown",
      "metadata": {
        "id": "fAZCxAX06R_k"
      },
      "source": [
        "14. Створити кортеж з один елементом."
      ]
    },
    {
      "cell_type": "code",
      "execution_count": null,
      "metadata": {
        "id": "H7d82WkQev3e"
      },
      "outputs": [],
      "source": [
        "tuple_var1 = tuple((1, 3, 5, 7))\n",
        "#or (additional)\n",
        "tuple_var2 = (1, 4, 6)"
      ]
    },
    {
      "cell_type": "markdown",
      "metadata": {
        "id": "8LCtYcmI6w1M"
      },
      "source": [
        "15. Порівняйте список та кортеж. Назвіть схожості та відмінності, випадки використання."
      ]
    },
    {
      "cell_type": "markdown",
      "metadata": {
        "id": "fUsN1Hnue0C6"
      },
      "source": [
        "Тапли використовуються зазвичай для однотипних елементів (наприклад цілі числа)\n",
        "Відмінності\n",
        "1. Списки змінні, кортежі незмінні (якщо треба змінити кортеж, створюється новий кортеж з новим id)\n",
        "2. Синтаксичні відмінності (для списку квадратні дужки, для кортежа - круглі та кома)\n",
        "3. За рахунок того, що списки змінні, списки є повільніші. Кортежі мають фіксовану довжину та є швидші\n"
      ]
    },
    {
      "cell_type": "markdown",
      "metadata": {
        "id": "m0xrwFijAmDD"
      },
      "source": [
        "16. Створіть кортеж з 11ти елементів чисел з рухомою комою та отримайте кожен парний за індексом елемент в зворотньому порядку. Наприклад, маючи (1.2, 2.3, 3.3, 4.3, 5.3, 6.3, 7.3, 8.3, 9.3, 0.3), отримати (0.3, 8.3, 6.3, 4.3, 2.3). Результат збережіть в нову змінну та виведіть на екран."
      ]
    },
    {
      "cell_type": "code",
      "execution_count": null,
      "metadata": {
        "id": "p-5DAH6XfAGA"
      },
      "outputs": [],
      "source": [
        "tuple_var3 = (0.3, 1.3, 2.3, 3.3, 4.3, 5.3, 6.3, 7.3, 8.3, 9.3, 10.3)\n",
        "tuple_var4 = tuple_var3[-2::-2]\n",
        "print(tuple_var4)\n",
        "#Output\n",
        "#(9.3, 7.3, 5.3, 3.3, 1.3)"
      ]
    },
    {
      "cell_type": "markdown",
      "metadata": {
        "id": "rW_I9dt3x6cW"
      },
      "source": [
        "# VI. Множини (Set)."
      ]
    },
    {
      "cell_type": "markdown",
      "metadata": {
        "id": "zNjRLHLw1Bgg"
      },
      "source": [
        "17. Створити множину без елементів. Після цого за допомогою методу додайте кілька різних елементів до множини. Чи множини є змінним типом даних?"
      ]
    },
    {
      "cell_type": "code",
      "execution_count": null,
      "metadata": {
        "id": "KOv7zc2Kfo4N"
      },
      "outputs": [],
      "source": [
        "set_var = set(())\n",
        "set_var.add(77)\n",
        "set_var.add(56)\n",
        "set_var.add(88)\n",
        "print(set_var)\n",
        "#Output\n",
        "#{56, 88, 77}"
      ]
    },
    {
      "cell_type": "markdown",
      "metadata": {
        "id": "vxS6dVYiftZQ"
      },
      "source": [
        "Множини змінні, є методи, які забезпечують зміну стану об'єктів множин без зміни комірки пам'яті."
      ]
    },
    {
      "cell_type": "markdown",
      "metadata": {
        "id": "gHpT0Zw_1HEF"
      },
      "source": [
        "18. Створити множину, маючи список my_list = [1, 1, 2, 67, 67, 8, 9]. Пояснити, чому \"зникли\" деякі елементи."
      ]
    },
    {
      "cell_type": "code",
      "execution_count": null,
      "metadata": {
        "id": "qCN4uvJ_fxmu"
      },
      "outputs": [],
      "source": [
        "set_var = set((1, 1, 2, 67, 67, 8, 9))\n",
        "print(set_var)\n",
        "#Output\n",
        "#{1, 2, 67, 8, 9}"
      ]
    },
    {
      "cell_type": "markdown",
      "metadata": {
        "id": "tFNc1e20fyny"
      },
      "source": [
        "Множини після створення очищується від дублікатів, бо множини це структури даних, які представляють собою невпорядковані набори унікальних елементів."
      ]
    },
    {
      "cell_type": "markdown",
      "metadata": {
        "id": "SRMkGizS1UwY"
      },
      "source": [
        "19. Створіть дві множини. Продемонстуйте над ними операції: обʼєднання, різниці, пересічі та симетричної різниці. Використовуйте методи, що не змінюють множини, а створюють нові."
      ]
    },
    {
      "cell_type": "code",
      "execution_count": null,
      "metadata": {
        "id": "h0T-VuDnf3Ri"
      },
      "outputs": [],
      "source": [
        "set_var1 = {1, 2, 67, 8, 9}\n",
        "set_var2 = {4, 6, 77, 99, 0, 12}\n",
        "\n",
        "union_set = set_var1.union(set_var2)\n",
        "print(union_set)\n",
        "#{0, 1, 2, 67, 99, 4, 6, 8, 9, 12, 77}\n",
        "difference_set = set_var1.difference(set_var2)\n",
        "print(difference_set)\n",
        "#{1, 2, 67, 8, 9}\n",
        "intersection_set = set_var1.intersection(set_var2)\n",
        "print(intersection_set)\n",
        "#set()\n",
        "symmetric_difference_set = set_var1.symmetric_difference(set_var2)\n",
        "print(symmetric_difference_set)\n",
        "#{0, 1, 2, 67, 4, 6, 8, 9, 12, 77, 99}\n"
      ]
    },
    {
      "cell_type": "markdown",
      "metadata": {
        "id": "kWc8gkzTx7Ea"
      },
      "source": [
        "# VII. Словники (Dictionary)."
      ]
    },
    {
      "cell_type": "markdown",
      "metadata": {
        "id": "i5FLwj-B2ybQ"
      },
      "source": [
        "20. Створіть пустий словник. До нього додайте чотири пари елементів такі, щоб їхні ключі були різних типів. Чи може список бути ключем? Чому?"
      ]
    },
    {
      "cell_type": "code",
      "execution_count": null,
      "metadata": {
        "id": "hxgv3BzrgLAV"
      },
      "outputs": [],
      "source": [
        "dict_var1 = {1: 33, \"ww\": \"w\", True: \"c\", tuple((1, 3, 5, 7)): {1, 2, 67, 8, 9}}\n",
        "print(dict_var1)\n",
        "#Output\n",
        "#{1: 'c', 'ww': 'w', (1, 3, 5, 7): {1, 2, 67, 8, 9}}\n"
      ]
    },
    {
      "cell_type": "markdown",
      "metadata": {
        "id": "zwa7UVN-gR3m"
      },
      "source": [
        "Список не може бути ключем, бо лише незмінні типи даних можуть виступати в ролі ключів у словнику."
      ]
    },
    {
      "cell_type": "markdown",
      "metadata": {
        "id": "WM_pMlJsgoNf"
      },
      "source": [
        "21. Створіть словник, де значенням в одній з пар теж буде словник, який теж має вкладений словник. Виведіть на екран значення, що міститься в словнику, що знаходиться на найнижчому рівні ієрархії вкладеності (найбільш внутрішній)."
      ]
    },
    {
      "cell_type": "code",
      "execution_count": null,
      "metadata": {
        "id": "60dlP7IHhAy4"
      },
      "outputs": [],
      "source": [
        "dict_var1 = {10: 33, \"ww\": \"w\", 3: {\"q\": 22, 5: 34, 567: {11: 45, \"www\": 790}}} \n",
        "inner_value = dict_var1[3][567][\"www\"]\n",
        "print(inner_value)\n",
        "#Output\n",
        "#790"
      ]
    },
    {
      "cell_type": "markdown",
      "metadata": {
        "id": "xOZP0hkx6cCr"
      },
      "source": [
        "# Вітаю! Ви велика(ий) молодець, що впоралась(вся). Похваліть себе та побалуйте чимось приємним. Я Вами пишаюся."
      ]
    }
  ],
  "metadata": {
    "colab": {
      "provenance": []
    },
    "kernelspec": {
      "display_name": "Python 3",
      "name": "python3"
    },
    "language_info": {
      "name": "python"
    }
  },
  "nbformat": 4,
  "nbformat_minor": 0
}
